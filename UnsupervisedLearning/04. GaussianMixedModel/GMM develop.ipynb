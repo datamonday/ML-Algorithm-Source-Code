{
 "cells": [
  {
   "cell_type": "code",
   "execution_count": 19,
   "id": "2c040964",
   "metadata": {},
   "outputs": [],
   "source": [
    "import os\n",
    "import sys\n",
    "import math\n",
    "import numpy as np\n",
    "from sklearn import datasets"
   ]
  },
  {
   "cell_type": "code",
   "execution_count": 3,
   "id": "0dabddeb",
   "metadata": {},
   "outputs": [],
   "source": [
    "sys.path.append(os.getcwd())"
   ]
  },
  {
   "cell_type": "code",
   "execution_count": 4,
   "id": "bd3e9007",
   "metadata": {},
   "outputs": [
    {
     "data": {
      "text/plain": [
       "'D:\\\\Github\\\\ML-Algorithm-Source-Code\\\\UnsupervisedLearning\\\\04. GaussianMixedModel'"
      ]
     },
     "execution_count": 4,
     "metadata": {},
     "output_type": "execute_result"
    }
   ],
   "source": [
    "os.getcwd()"
   ]
  },
  {
   "cell_type": "code",
   "execution_count": 14,
   "id": "c55db0b4",
   "metadata": {},
   "outputs": [],
   "source": [
    "sys.path.append('D:\\\\Github\\\\ML-Algorithm-Source-Code\\\\utils')"
   ]
  },
  {
   "cell_type": "code",
   "execution_count": 18,
   "id": "c9f0f928",
   "metadata": {},
   "outputs": [],
   "source": [
    "from utils import normalize, euclidean_distance, calculate_covariance_matrix"
   ]
  },
  {
   "cell_type": "code",
   "execution_count": null,
   "id": "950b15f9",
   "metadata": {},
   "outputs": [],
   "source": [
    "class GaussianMixtureModel():\n",
    "    \"\"\"\n",
    "    高斯混合聚类，软聚类方法，认为数据从多个高斯分布生成\n",
    "    \"\"\"\n",
    "    def __init__"
   ]
  },
  {
   "cell_type": "code",
   "execution_count": 20,
   "id": "b454b2e4",
   "metadata": {},
   "outputs": [],
   "source": [
    "np.random.choice?"
   ]
  },
  {
   "cell_type": "code",
   "execution_count": 22,
   "id": "ca23f02a",
   "metadata": {},
   "outputs": [],
   "source": [
    "np.linalg.det?"
   ]
  },
  {
   "cell_type": "code",
   "execution_count": 23,
   "id": "f8f52518",
   "metadata": {},
   "outputs": [],
   "source": [
    "np.linalg.pinv?"
   ]
  },
  {
   "cell_type": "code",
   "execution_count": null,
   "id": "43cfaee0",
   "metadata": {},
   "outputs": [],
   "source": []
  },
  {
   "cell_type": "code",
   "execution_count": null,
   "id": "2451b37e",
   "metadata": {},
   "outputs": [],
   "source": []
  }
 ],
 "metadata": {
  "kernelspec": {
   "display_name": "Python 3",
   "language": "python",
   "name": "python3"
  },
  "language_info": {
   "codemirror_mode": {
    "name": "ipython",
    "version": 3
   },
   "file_extension": ".py",
   "mimetype": "text/x-python",
   "name": "python",
   "nbconvert_exporter": "python",
   "pygments_lexer": "ipython3",
   "version": "3.8.8"
  }
 },
 "nbformat": 4,
 "nbformat_minor": 5
}
