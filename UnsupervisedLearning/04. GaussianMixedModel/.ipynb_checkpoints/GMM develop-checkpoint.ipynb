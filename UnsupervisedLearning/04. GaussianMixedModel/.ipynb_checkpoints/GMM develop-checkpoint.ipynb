{
 "cells": [
  {
   "cell_type": "code",
   "execution_count": 19,
   "id": "d6775712",
   "metadata": {},
   "outputs": [],
   "source": [
    "import os\n",
    "import sys\n",
    "import math\n",
    "import numpy as np\n",
    "from sklearn import datasets"
   ]
  },
  {
   "cell_type": "code",
   "execution_count": 3,
   "id": "a111b070",
   "metadata": {},
   "outputs": [],
   "source": [
    "sys.path.append(os.getcwd())"
   ]
  },
  {
   "cell_type": "code",
   "execution_count": 4,
   "id": "e507e6de",
   "metadata": {},
   "outputs": [
    {
     "data": {
      "text/plain": [
       "'D:\\\\Github\\\\ML-Algorithm-Source-Code\\\\UnsupervisedLearning\\\\04. GaussianMixedModel'"
      ]
     },
     "execution_count": 4,
     "metadata": {},
     "output_type": "execute_result"
    }
   ],
   "source": [
    "os.getcwd()"
   ]
  },
  {
   "cell_type": "code",
   "execution_count": 14,
   "id": "9755feea",
   "metadata": {},
   "outputs": [],
   "source": [
    "sys.path.append('D:\\\\Github\\\\ML-Algorithm-Source-Code\\\\utils')"
   ]
  },
  {
   "cell_type": "code",
   "execution_count": 18,
   "id": "804e60c2",
   "metadata": {},
   "outputs": [],
   "source": [
    "from utils import normalize, euclidean_distance, calculate_covariance_matrix"
   ]
  },
  {
   "cell_type": "code",
   "execution_count": null,
   "id": "e071dd37",
   "metadata": {},
   "outputs": [],
   "source": [
    "class GaussianMixtureModel():\n",
    "    \"\"\"\n",
    "    高斯混合聚类，软聚类方法，认为数据从多个高斯分布生成\n",
    "    \"\"\""
   ]
  },
  {
   "cell_type": "code",
   "execution_count": null,
   "id": "8cd8b671",
   "metadata": {},
   "outputs": [],
   "source": []
  }
 ],
 "metadata": {
  "kernelspec": {
   "display_name": "Python 3",
   "language": "python",
   "name": "python3"
  },
  "language_info": {
   "codemirror_mode": {
    "name": "ipython",
    "version": 3
   },
   "file_extension": ".py",
   "mimetype": "text/x-python",
   "name": "python",
   "nbconvert_exporter": "python",
   "pygments_lexer": "ipython3",
   "version": "3.8.8"
  }
 },
 "nbformat": 4,
 "nbformat_minor": 5
}
