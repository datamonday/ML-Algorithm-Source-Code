{
 "cells": [
  {
   "cell_type": "markdown",
   "id": "e67a0bec",
   "metadata": {},
   "source": [
    "### 导入Python精确除法（division）语言特征\n",
    "如果未来某个Python版本中出现了新的功能特性，而且这个特性和当前版本中使用的不兼容，但如果想要使用就需要从future模块导入。比如在Python2.x中，Python自动执行的是截断除法（Truncating Division） ，如果导入该语言特性，则会执行Python3.x支持的精确除法。"
   ]
  },
  {
   "cell_type": "code",
   "execution_count": 3,
   "id": "b59ed941",
   "metadata": {},
   "outputs": [
    {
     "data": {
      "text/plain": [
       "2.5"
      ]
     },
     "execution_count": 3,
     "metadata": {},
     "output_type": "execute_result"
    }
   ],
   "source": [
    "5/2"
   ]
  },
  {
   "cell_type": "code",
   "execution_count": 6,
   "id": "2cbb93c1",
   "metadata": {},
   "outputs": [],
   "source": [
    "from __future__ import division, print_function"
   ]
  },
  {
   "cell_type": "code",
   "execution_count": 5,
   "id": "9ae91a38",
   "metadata": {},
   "outputs": [
    {
     "data": {
      "text/plain": [
       "2.5"
      ]
     },
     "execution_count": 5,
     "metadata": {},
     "output_type": "execute_result"
    }
   ],
   "source": [
    "5/2"
   ]
  },
  {
   "cell_type": "code",
   "execution_count": 8,
   "id": "8517ec39",
   "metadata": {},
   "outputs": [],
   "source": [
    "import os\n",
    "import sys\n",
    "import math\n",
    "from sklearn import datasets\n",
    "import numpy as np"
   ]
  },
  {
   "cell_type": "code",
   "execution_count": 10,
   "id": "800368f6",
   "metadata": {},
   "outputs": [],
   "source": [
    "sys.path.append(os.getcwd())"
   ]
  },
  {
   "cell_type": "code",
   "execution_count": null,
   "id": "9033206a",
   "metadata": {},
   "outputs": [],
   "source": [
    "from utils. import normalize, euclidean_distance, calculate_covariance_matrix"
   ]
  },
  {
   "cell_type": "code",
   "execution_count": 12,
   "id": "241573d3",
   "metadata": {},
   "outputs": [],
   "source": [
    "np.atleast_1d?"
   ]
  },
  {
   "cell_type": "code",
   "execution_count": 24,
   "id": "e303ecb9",
   "metadata": {},
   "outputs": [
    {
     "data": {
      "text/plain": [
       "array([ True])"
      ]
     },
     "execution_count": 24,
     "metadata": {},
     "output_type": "execute_result"
    }
   ],
   "source": [
    "np.atleast_1d(1) == 1"
   ]
  },
  {
   "cell_type": "code",
   "execution_count": 14,
   "id": "3d3f4dac",
   "metadata": {},
   "outputs": [
    {
     "data": {
      "text/plain": [
       "array([1, 2, 3])"
      ]
     },
     "execution_count": 14,
     "metadata": {},
     "output_type": "execute_result"
    }
   ],
   "source": [
    "np.atleast_1d([1,2,3])"
   ]
  },
  {
   "cell_type": "code",
   "execution_count": 15,
   "id": "65469bf2",
   "metadata": {},
   "outputs": [],
   "source": [
    "np.linalg.norm?"
   ]
  },
  {
   "attachments": {
    "image.png": {
     "image/png": "[encoded data removed]"
    }
   },
   "cell_type": "markdown",
   "id": "6fac2ac6",
   "metadata": {},
   "source": [
    "![./norm.png](attachment:image.png)\n",
    "\n",
    "ref:https://blog.csdn.net/hqh131360239/article/details/79061535"
   ]
  },
  {
   "cell_type": "code",
   "execution_count": 21,
   "id": "e3047317",
   "metadata": {},
   "outputs": [
    {
     "data": {
      "text/plain": [
       "5.0"
      ]
     },
     "execution_count": 21,
     "metadata": {},
     "output_type": "execute_result"
    }
   ],
   "source": [
    "np.linalg.norm([3, 4], axis=-1, ord=2)"
   ]
  },
  {
   "cell_type": "code",
   "execution_count": 31,
   "id": "e1909c93",
   "metadata": {},
   "outputs": [
    {
     "data": {
      "text/plain": [
       "array([5.19615242, 6.92820323])"
      ]
     },
     "execution_count": 31,
     "metadata": {},
     "output_type": "execute_result"
    }
   ],
   "source": [
    "np.linalg.norm([[3, 4],[3, 4],[3, 4]], axis=0, ord=2)"
   ]
  },
  {
   "cell_type": "code",
   "execution_count": 32,
   "id": "1663c5cf",
   "metadata": {},
   "outputs": [
    {
     "data": {
      "text/plain": [
       "array([5., 5., 5.])"
      ]
     },
     "execution_count": 32,
     "metadata": {},
     "output_type": "execute_result"
    }
   ],
   "source": [
    "np.linalg.norm([[3, 4],[3, 4],[3, 4]], axis=1, ord=2)"
   ]
  },
  {
   "cell_type": "code",
   "execution_count": 30,
   "id": "0bc1014b",
   "metadata": {},
   "outputs": [
    {
     "data": {
      "text/plain": [
       "array([5., 5., 5.])"
      ]
     },
     "execution_count": 30,
     "metadata": {},
     "output_type": "execute_result"
    }
   ],
   "source": [
    "np.linalg.norm([[3, 4],[3, 4],[3, 4]], axis=-1, ord=2)"
   ]
  },
  {
   "cell_type": "code",
   "execution_count": 33,
   "id": "45c37730",
   "metadata": {},
   "outputs": [
    {
     "data": {
      "text/plain": [
       "array([5., 5., 5.])"
      ]
     },
     "execution_count": 33,
     "metadata": {},
     "output_type": "execute_result"
    }
   ],
   "source": [
    "l2 = np.linalg.norm([[3, 4],[3, 4],[3, 4]], axis=-1, ord=2)\n",
    "l2"
   ]
  },
  {
   "cell_type": "markdown",
   "id": "6ba95256",
   "metadata": {},
   "source": [
    "### `l2[l2 == 0] = 1` 的意义"
   ]
  },
  {
   "cell_type": "code",
   "execution_count": 34,
   "id": "61d29913",
   "metadata": {},
   "outputs": [],
   "source": [
    "l2[l2 == 0] = 1"
   ]
  },
  {
   "cell_type": "code",
   "execution_count": 35,
   "id": "cdb8212a",
   "metadata": {},
   "outputs": [
    {
     "data": {
      "text/plain": [
       "[array([False, False, False])]"
      ]
     },
     "execution_count": 35,
     "metadata": {},
     "output_type": "execute_result"
    }
   ],
   "source": [
    "[l2 == 0]"
   ]
  },
  {
   "cell_type": "code",
   "execution_count": 41,
   "id": "899fd4c2",
   "metadata": {},
   "outputs": [
    {
     "data": {
      "text/plain": [
       "(array(1), ())"
      ]
     },
     "execution_count": 41,
     "metadata": {},
     "output_type": "execute_result"
    }
   ],
   "source": [
    "np.array(1), np.array(1).shape"
   ]
  },
  {
   "cell_type": "code",
   "execution_count": 38,
   "id": "fe2af459",
   "metadata": {},
   "outputs": [
    {
     "data": {
      "text/plain": [
       "array([[1]])"
      ]
     },
     "execution_count": 38,
     "metadata": {},
     "output_type": "execute_result"
    }
   ],
   "source": [
    " np.expand_dims([1], axis=-1)"
   ]
  },
  {
   "cell_type": "code",
   "execution_count": 39,
   "id": "7cfa0fc3",
   "metadata": {},
   "outputs": [
    {
     "data": {
      "text/plain": [
       "(1, 1)"
      ]
     },
     "execution_count": 39,
     "metadata": {},
     "output_type": "execute_result"
    }
   ],
   "source": [
    " np.expand_dims([1], axis=-1).shape"
   ]
  },
  {
   "cell_type": "code",
   "execution_count": 42,
   "id": "5a325b4b",
   "metadata": {},
   "outputs": [
    {
     "data": {
      "text/plain": [
       "[[3, 4], [3, 4], [3, 4], [0, 0]]"
      ]
     },
     "execution_count": 42,
     "metadata": {},
     "output_type": "execute_result"
    }
   ],
   "source": [
    "[[3, 4],[3, 4],[3, 4], [0, 0]]"
   ]
  },
  {
   "cell_type": "code",
   "execution_count": 46,
   "id": "b8e8fdfb",
   "metadata": {},
   "outputs": [],
   "source": [
    "a = [[3, 4],[3, 4],[3, 4], [0, 0]]"
   ]
  },
  {
   "cell_type": "code",
   "execution_count": 47,
   "id": "9ad77e4a",
   "metadata": {},
   "outputs": [
    {
     "data": {
      "text/plain": [
       "array([3.5, 3.5, 3.5, 0. ])"
      ]
     },
     "execution_count": 47,
     "metadata": {},
     "output_type": "execute_result"
    }
   ],
   "source": [
    "np.mean(a, axis=-1)"
   ]
  },
  {
   "cell_type": "code",
   "execution_count": 48,
   "id": "693676dd",
   "metadata": {},
   "outputs": [
    {
     "data": {
      "text/plain": [
       "array([0.5, 0.5, 0.5, 0. ])"
      ]
     },
     "execution_count": 48,
     "metadata": {},
     "output_type": "execute_result"
    }
   ],
   "source": [
    "np.std(a, axis=-1)"
   ]
  },
  {
   "cell_type": "code",
   "execution_count": 50,
   "id": "04439436",
   "metadata": {},
   "outputs": [
    {
     "data": {
      "text/plain": [
       "array([5., 5., 5., 0.])"
      ]
     },
     "execution_count": 50,
     "metadata": {},
     "output_type": "execute_result"
    }
   ],
   "source": [
    "l2 = np.linalg.norm(a, axis=-1, ord=2)\n",
    "l2"
   ]
  },
  {
   "cell_type": "code",
   "execution_count": 54,
   "id": "b1fd892d",
   "metadata": {},
   "outputs": [
    {
     "data": {
      "text/plain": [
       "array([[5.],\n",
       "       [5.],\n",
       "       [5.],\n",
       "       [0.]])"
      ]
     },
     "execution_count": 54,
     "metadata": {},
     "output_type": "execute_result"
    }
   ],
   "source": [
    "l2_2d = np.expand_dims(l2, axis=-1)\n",
    "l2_2d"
   ]
  },
  {
   "cell_type": "code",
   "execution_count": 55,
   "id": "43af7d68",
   "metadata": {},
   "outputs": [
    {
     "name": "stderr",
     "output_type": "stream",
     "text": [
      "<ipython-input-55-52a0383d75d1>:1: RuntimeWarning: invalid value encountered in true_divide\n",
      "  a / l2_2d\n"
     ]
    },
    {
     "data": {
      "text/plain": [
       "array([[0.6, 0.8],\n",
       "       [0.6, 0.8],\n",
       "       [0.6, 0.8],\n",
       "       [nan, nan]])"
      ]
     },
     "execution_count": 55,
     "metadata": {},
     "output_type": "execute_result"
    }
   ],
   "source": [
    "a / l2_2d"
   ]
  },
  {
   "cell_type": "code",
   "execution_count": 56,
   "id": "c771f289",
   "metadata": {},
   "outputs": [
    {
     "data": {
      "text/plain": [
       "array([5., 5., 5., 1.])"
      ]
     },
     "execution_count": 56,
     "metadata": {},
     "output_type": "execute_result"
    }
   ],
   "source": [
    "l2 = np.linalg.norm(a, axis=-1, ord=2)\n",
    "\n",
    "l2[l2 == 0] = 1\n",
    "\n",
    "l2"
   ]
  },
  {
   "cell_type": "code",
   "execution_count": 57,
   "id": "8aa93508",
   "metadata": {},
   "outputs": [
    {
     "data": {
      "text/plain": [
       "array([[5.],\n",
       "       [5.],\n",
       "       [5.],\n",
       "       [1.]])"
      ]
     },
     "execution_count": 57,
     "metadata": {},
     "output_type": "execute_result"
    }
   ],
   "source": [
    "l2_2d = np.expand_dims(l2, axis=-1)\n",
    "l2_2d"
   ]
  },
  {
   "cell_type": "code",
   "execution_count": 58,
   "id": "fb57d9f4",
   "metadata": {},
   "outputs": [
    {
     "data": {
      "text/plain": [
       "array([[0.6, 0.8],\n",
       "       [0.6, 0.8],\n",
       "       [0.6, 0.8],\n",
       "       [0. , 0. ]])"
      ]
     },
     "execution_count": 58,
     "metadata": {},
     "output_type": "execute_result"
    }
   ],
   "source": [
    "a / l2_2d"
   ]
  },
  {
   "cell_type": "code",
   "execution_count": 59,
   "id": "092ece6c",
   "metadata": {},
   "outputs": [],
   "source": [
    "result = a / l2_2d"
   ]
  },
  {
   "cell_type": "code",
   "execution_count": 63,
   "id": "30890be7",
   "metadata": {},
   "outputs": [
    {
     "data": {
      "text/plain": [
       "array([0.8, 0.8, 0.8, 0. ])"
      ]
     },
     "execution_count": 63,
     "metadata": {},
     "output_type": "execute_result"
    }
   ],
   "source": [
    "np.max(result, axis=-1)"
   ]
  },
  {
   "cell_type": "code",
   "execution_count": 64,
   "id": "50b68207",
   "metadata": {},
   "outputs": [
    {
     "data": {
      "text/plain": [
       "array([0.8, 0.8, 0.8, 0. ])"
      ]
     },
     "execution_count": 64,
     "metadata": {},
     "output_type": "execute_result"
    }
   ],
   "source": [
    "np.max(result, axis=-1)"
   ]
  },
  {
   "cell_type": "code",
   "execution_count": 62,
   "id": "4171b707",
   "metadata": {},
   "outputs": [
    {
     "data": {
      "text/plain": [
       "array([0.1, 0.1, 0.1, 0. ])"
      ]
     },
     "execution_count": 62,
     "metadata": {},
     "output_type": "execute_result"
    }
   ],
   "source": [
    "np.std(result, axis=-1)"
   ]
  },
  {
   "cell_type": "markdown",
   "id": "fc9d045f",
   "metadata": {},
   "source": [
    "### Rescaling\n",
    "$x' = \\frac{x - min()}{max() - min()} \\in [0, 1]$\n",
    "\n",
    "\n",
    "### Mean normalization\n",
    "\n",
    "$x' = \\frac{x - mean()}{max() - min()} \\in [-1, 1]$"
   ]
  },
  {
   "cell_type": "code",
   "execution_count": 68,
   "id": "fc8817a8",
   "metadata": {},
   "outputs": [
    {
     "data": {
      "text/plain": [
       "0.6666666666666666"
      ]
     },
     "execution_count": 68,
     "metadata": {},
     "output_type": "execute_result"
    }
   ],
   "source": [
    "(3 - 1) / (4 - 1)"
   ]
  },
  {
   "cell_type": "code",
   "execution_count": 69,
   "id": "bf18e435",
   "metadata": {},
   "outputs": [
    {
     "data": {
      "text/plain": [
       "[[3, 4], [3, 4], [3, 4], [0, 0]]"
      ]
     },
     "execution_count": 69,
     "metadata": {},
     "output_type": "execute_result"
    }
   ],
   "source": [
    "a"
   ]
  },
  {
   "cell_type": "code",
   "execution_count": 71,
   "id": "3708c89d",
   "metadata": {},
   "outputs": [
    {
     "data": {
      "text/plain": [
       "array([1.29903811, 1.73205081])"
      ]
     },
     "execution_count": 71,
     "metadata": {},
     "output_type": "execute_result"
    }
   ],
   "source": [
    "np.array(a).std(axis=0)"
   ]
  },
  {
   "cell_type": "code",
   "execution_count": 73,
   "id": "d32786ea",
   "metadata": {},
   "outputs": [
    {
     "data": {
      "text/plain": [
       "array([[3, 4],\n",
       "       [3, 4],\n",
       "       [3, 4],\n",
       "       [0, 0]])"
      ]
     },
     "execution_count": 73,
     "metadata": {},
     "output_type": "execute_result"
    }
   ],
   "source": [
    "b = np.array(a)\n",
    "b"
   ]
  },
  {
   "cell_type": "code",
   "execution_count": 75,
   "id": "07b13d7d",
   "metadata": {},
   "outputs": [
    {
     "data": {
      "text/plain": [
       "2.625"
      ]
     },
     "execution_count": 75,
     "metadata": {},
     "output_type": "execute_result"
    }
   ],
   "source": [
    "b.mean()"
   ]
  },
  {
   "cell_type": "code",
   "execution_count": 76,
   "id": "2920192e",
   "metadata": {},
   "outputs": [
    {
     "data": {
      "text/plain": [
       "array([2.25, 3.  ])"
      ]
     },
     "execution_count": 76,
     "metadata": {},
     "output_type": "execute_result"
    }
   ],
   "source": [
    "b.mean(0)"
   ]
  },
  {
   "cell_type": "code",
   "execution_count": 78,
   "id": "3135a367",
   "metadata": {},
   "outputs": [],
   "source": [
    "np.diag?"
   ]
  },
  {
   "cell_type": "code",
   "execution_count": 80,
   "id": "81b2ad89",
   "metadata": {},
   "outputs": [
    {
     "data": {
      "text/plain": [
       "array([[0, 1, 2],\n",
       "       [3, 4, 5],\n",
       "       [6, 7, 8]])"
      ]
     },
     "execution_count": 80,
     "metadata": {},
     "output_type": "execute_result"
    }
   ],
   "source": [
    "x = np.arange(9).reshape((3,3))\n",
    "x"
   ]
  },
  {
   "cell_type": "code",
   "execution_count": 81,
   "id": "b979283e",
   "metadata": {},
   "outputs": [
    {
     "data": {
      "text/plain": [
       "array([0, 4, 8])"
      ]
     },
     "execution_count": 81,
     "metadata": {},
     "output_type": "execute_result"
    }
   ],
   "source": [
    "np.diag(x)"
   ]
  },
  {
   "cell_type": "code",
   "execution_count": 84,
   "id": "e8d91c01",
   "metadata": {},
   "outputs": [
    {
     "data": {
      "text/plain": [
       "(3, 3)"
      ]
     },
     "execution_count": 84,
     "metadata": {},
     "output_type": "execute_result"
    }
   ],
   "source": [
    "np.shape(x)"
   ]
  },
  {
   "cell_type": "code",
   "execution_count": 85,
   "id": "7c92c344",
   "metadata": {},
   "outputs": [
    {
     "data": {
      "text/plain": [
       "array([3., 4., 5.])"
      ]
     },
     "execution_count": 85,
     "metadata": {},
     "output_type": "execute_result"
    }
   ],
   "source": [
    "x.mean(axis=0)"
   ]
  },
  {
   "cell_type": "code",
   "execution_count": 83,
   "id": "f1fa3738",
   "metadata": {},
   "outputs": [
    {
     "data": {
      "text/plain": [
       "array([[3., 4., 5.],\n",
       "       [3., 4., 5.],\n",
       "       [3., 4., 5.]])"
      ]
     },
     "execution_count": 83,
     "metadata": {},
     "output_type": "execute_result"
    }
   ],
   "source": [
    "mean = np.ones(np.shape(x)) * x.mean(axis=0)\n",
    "mean"
   ]
  },
  {
   "cell_type": "code",
   "execution_count": 86,
   "id": "a2f24bf1",
   "metadata": {},
   "outputs": [],
   "source": [
    "x.mean?"
   ]
  },
  {
   "cell_type": "code",
   "execution_count": null,
   "id": "8a40468d",
   "metadata": {},
   "outputs": [],
   "source": []
  },
  {
   "cell_type": "code",
   "execution_count": null,
   "id": "c14f1f65",
   "metadata": {},
   "outputs": [],
   "source": []
  }
 ],
 "metadata": {
  "kernelspec": {
   "display_name": "Python 3",
   "language": "python",
   "name": "python3"
  },
  "language_info": {
   "codemirror_mode": {
    "name": "ipython",
    "version": 3
   },
   "file_extension": ".py",
   "mimetype": "text/x-python",
   "name": "python",
   "nbconvert_exporter": "python",
   "pygments_lexer": "ipython3",
   "version": "3.8.8"
  }
 },
 "nbformat": 4,
 "nbformat_minor": 5
}
